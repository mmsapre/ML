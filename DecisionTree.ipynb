{
 "cells": [
  {
   "cell_type": "code",
   "execution_count": 1,
   "metadata": {
    "collapsed": true
   },
   "outputs": [],
   "source": [
    "from scipy import stats\n",
    "import numpy as np\n",
    "import matplotlib.pyplot as plt\n",
    "import pandas as pd\n",
    "from sklearn.metrics import confusion_matrix, precision_recall_fscore_support, classification_report\n",
    "import scipy.spatial.distance as dist\n",
    "from scipy.stats import chi2_contingency\n",
    "from sympy import *"
   ]
  },
  {
   "cell_type": "code",
   "execution_count": 2,
   "outputs": [
    {
     "data": {
      "text/plain": "<IPython.core.display.Javascript object>",
      "application/javascript": "IPython.OutputArea.prototype._should_scroll = function(lines) {\n    return false;\n}\n"
     },
     "metadata": {},
     "output_type": "display_data"
    }
   ],
   "source": [
    "%%javascript\n",
    "IPython.OutputArea.prototype._should_scroll = function(lines) {\n",
    "    return false;\n",
    "}"
   ],
   "metadata": {
    "collapsed": false,
    "pycharm": {
     "name": "#%%\n"
    }
   }
  },
  {
   "cell_type": "code",
   "execution_count": 3,
   "outputs": [],
   "source": [
    "def gini_index(df):\n",
    "    total_rows = df.shape[0]\n",
    "    print(f'Total Count: {total_rows}\\n')\n",
    "    attributes = list(df.columns[:-1])\n",
    "    class_var = df.columns[-1]\n",
    "    attr_gini = []\n",
    "    for attr in attributes:\n",
    "        print(f'\\nAttribute: {attr}\\n')\n",
    "        value_counts = df[attr].value_counts()\n",
    "        print(value_counts.to_string())\n",
    "        values = value_counts.index\n",
    "        gini_list =[]\n",
    "        print('---------------------------')\n",
    "        for value in values:\n",
    "            print(f'\\n{attr} = {value}\\n')\n",
    "            value_count = value_counts[value]\n",
    "            class_count = df[df[attr] == value].groupby(class_var)[attr].count()\n",
    "            print(class_count.to_string())\n",
    "            print(f'\\nTotal Count: {value_count}\\n')\n",
    "            gini = round(1-sum((class_count.values/value_count)**2),4)\n",
    "            print_str = f'Gini = 1 - '\n",
    "            for cnt in class_count.values:\n",
    "                print_str += f'({cnt}/{value_count})\\u00B2 - '\n",
    "            print_str = print_str[:-2]\n",
    "            print_str += f'= {gini}\\n'\n",
    "            print(print_str)\n",
    "            gini_list.append(gini)\n",
    "            print('---------------------------')\n",
    "\n",
    "        total_gini = round(sum(np.array(gini_list)* np.array(value_counts.values)/total_rows),4)\n",
    "        print_tot_str = f'For {attr}, Gini index = '\n",
    "        for i in range(len(gini_list)):\n",
    "            print_tot_str += f'{value_counts.values[i]}/{total_rows}*{gini_list[i]} + '\n",
    "        print_tot_str = print_tot_str[:-2]\n",
    "        print_tot_str += f'= {total_gini}\\n'\n",
    "        print(print_tot_str)\n",
    "        attr_gini.append(total_gini)\n",
    "        print('=================================================================================')\n",
    "    print(f'\\nFor {attributes} Gini index are {attr_gini}')\n",
    "    print(f'\\nMinimum Gini Index is for {attributes[attr_gini.index(min(attr_gini))]}')\n",
    "    return attributes[attr_gini.index(min(attr_gini))]"
   ],
   "metadata": {
    "collapsed": false,
    "pycharm": {
     "name": "#%%\n"
    }
   }
  },
  {
   "cell_type": "code",
   "execution_count": 4,
   "outputs": [],
   "source": [
    "df = pd.DataFrame({\n",
    "                   'Income': ['High', 'Low', 'High', 'Middle', 'Low', 'High',\n",
    "                               'Low', 'Low', 'Middle', 'Middle'],\n",
    "                   'Education': ['Low', 'High', 'Low', 'High', 'Low', 'Low',\n",
    "                               'High', 'Low', 'Low', 'High'],\n",
    "                    'Gender': ['Male', 'Female', 'Male', 'Male', 'Male', 'Female',\n",
    "                                                   'Male', 'Male', 'Female', 'Male'],\n",
    "\n",
    "                    'Buys Gadget': ['Yes', 'No', 'Yes', 'Yes', 'No', 'No',\n",
    "                                                   'No', 'No', 'No', 'Yes'],})"
   ],
   "metadata": {
    "collapsed": false,
    "pycharm": {
     "name": "#%%\n"
    }
   }
  },
  {
   "cell_type": "code",
   "execution_count": 5,
   "outputs": [],
   "source": [
    "df = pd.DataFrame({\n",
    "                   'Outlook': ['Sunny', 'Sunny', 'Overcast', 'Rainy', 'Rainy', 'Rainy',\n",
    "                               'Overcast', 'Sunny', 'Sunny', 'Rainy', 'Sunny', 'Overcast', 'Overcast',\n",
    "                               'Rainy'],\n",
    "                   'Temperature': ['Hot', 'Hot', 'Hot', 'Mild', 'Cool', 'Cool',\n",
    "                               'Cool', 'Mild', 'Cool', 'Mild', 'Mild', 'Mild', 'Hot',\n",
    "                               'Mild'],\n",
    "                    'Humidity': ['High', 'High', 'High', 'High', 'Normal', 'Normal',\n",
    "                                                   'Normal', 'High', 'Normal', 'Normal', 'Normal', 'High', 'Normal',\n",
    "                                                   'High'],\n",
    "                    'Windy': ['Weak', 'Strong', 'Weak', 'Weak', 'Weak', 'Strong',\n",
    "                                                   'Strong', 'Weak', 'Weak', 'Weak', 'Strong', 'Strong', 'Weak',\n",
    "                                                   'Strong'],\n",
    "                    'PlayTennis': ['No', 'No', 'Yes', 'Yes', 'Yes', 'No',\n",
    "                                                   'Yes', 'No', 'Yes', 'Yes', 'Yes', 'Yes', 'Yes',\n",
    "                                                   'No'],})"
   ],
   "metadata": {
    "collapsed": false,
    "pycharm": {
     "name": "#%%\n"
    }
   }
  },
  {
   "cell_type": "code",
   "execution_count": 6,
   "outputs": [
    {
     "data": {
      "text/plain": "     Outlook Temperature Humidity   Windy PlayTennis\n0      Sunny         Hot     High    Weak         No\n1      Sunny         Hot     High  Strong         No\n2   Overcast         Hot     High    Weak        Yes\n3      Rainy        Mild     High    Weak        Yes\n4      Rainy        Cool   Normal    Weak        Yes\n5      Rainy        Cool   Normal  Strong         No\n6   Overcast        Cool   Normal  Strong        Yes\n7      Sunny        Mild     High    Weak         No\n8      Sunny        Cool   Normal    Weak        Yes\n9      Rainy        Mild   Normal    Weak        Yes\n10     Sunny        Mild   Normal  Strong        Yes\n11  Overcast        Mild     High  Strong        Yes\n12  Overcast         Hot   Normal    Weak        Yes\n13     Rainy        Mild     High  Strong         No",
      "text/html": "<div>\n<style scoped>\n    .dataframe tbody tr th:only-of-type {\n        vertical-align: middle;\n    }\n\n    .dataframe tbody tr th {\n        vertical-align: top;\n    }\n\n    .dataframe thead th {\n        text-align: right;\n    }\n</style>\n<table border=\"1\" class=\"dataframe\">\n  <thead>\n    <tr style=\"text-align: right;\">\n      <th></th>\n      <th>Outlook</th>\n      <th>Temperature</th>\n      <th>Humidity</th>\n      <th>Windy</th>\n      <th>PlayTennis</th>\n    </tr>\n  </thead>\n  <tbody>\n    <tr>\n      <th>0</th>\n      <td>Sunny</td>\n      <td>Hot</td>\n      <td>High</td>\n      <td>Weak</td>\n      <td>No</td>\n    </tr>\n    <tr>\n      <th>1</th>\n      <td>Sunny</td>\n      <td>Hot</td>\n      <td>High</td>\n      <td>Strong</td>\n      <td>No</td>\n    </tr>\n    <tr>\n      <th>2</th>\n      <td>Overcast</td>\n      <td>Hot</td>\n      <td>High</td>\n      <td>Weak</td>\n      <td>Yes</td>\n    </tr>\n    <tr>\n      <th>3</th>\n      <td>Rainy</td>\n      <td>Mild</td>\n      <td>High</td>\n      <td>Weak</td>\n      <td>Yes</td>\n    </tr>\n    <tr>\n      <th>4</th>\n      <td>Rainy</td>\n      <td>Cool</td>\n      <td>Normal</td>\n      <td>Weak</td>\n      <td>Yes</td>\n    </tr>\n    <tr>\n      <th>5</th>\n      <td>Rainy</td>\n      <td>Cool</td>\n      <td>Normal</td>\n      <td>Strong</td>\n      <td>No</td>\n    </tr>\n    <tr>\n      <th>6</th>\n      <td>Overcast</td>\n      <td>Cool</td>\n      <td>Normal</td>\n      <td>Strong</td>\n      <td>Yes</td>\n    </tr>\n    <tr>\n      <th>7</th>\n      <td>Sunny</td>\n      <td>Mild</td>\n      <td>High</td>\n      <td>Weak</td>\n      <td>No</td>\n    </tr>\n    <tr>\n      <th>8</th>\n      <td>Sunny</td>\n      <td>Cool</td>\n      <td>Normal</td>\n      <td>Weak</td>\n      <td>Yes</td>\n    </tr>\n    <tr>\n      <th>9</th>\n      <td>Rainy</td>\n      <td>Mild</td>\n      <td>Normal</td>\n      <td>Weak</td>\n      <td>Yes</td>\n    </tr>\n    <tr>\n      <th>10</th>\n      <td>Sunny</td>\n      <td>Mild</td>\n      <td>Normal</td>\n      <td>Strong</td>\n      <td>Yes</td>\n    </tr>\n    <tr>\n      <th>11</th>\n      <td>Overcast</td>\n      <td>Mild</td>\n      <td>High</td>\n      <td>Strong</td>\n      <td>Yes</td>\n    </tr>\n    <tr>\n      <th>12</th>\n      <td>Overcast</td>\n      <td>Hot</td>\n      <td>Normal</td>\n      <td>Weak</td>\n      <td>Yes</td>\n    </tr>\n    <tr>\n      <th>13</th>\n      <td>Rainy</td>\n      <td>Mild</td>\n      <td>High</td>\n      <td>Strong</td>\n      <td>No</td>\n    </tr>\n  </tbody>\n</table>\n</div>"
     },
     "execution_count": 6,
     "metadata": {},
     "output_type": "execute_result"
    }
   ],
   "source": [
    "df"
   ],
   "metadata": {
    "collapsed": false,
    "pycharm": {
     "name": "#%%\n"
    }
   }
  }
 ],
 "metadata": {
  "kernelspec": {
   "display_name": "Python 3",
   "language": "python",
   "name": "python3"
  },
  "language_info": {
   "codemirror_mode": {
    "name": "ipython",
    "version": 2
   },
   "file_extension": ".py",
   "mimetype": "text/x-python",
   "name": "python",
   "nbconvert_exporter": "python",
   "pygments_lexer": "ipython2",
   "version": "2.7.6"
  }
 },
 "nbformat": 4,
 "nbformat_minor": 0
}