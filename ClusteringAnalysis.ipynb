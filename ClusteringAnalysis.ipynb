{
 "cells": [
  {
   "cell_type": "code",
   "execution_count": 8,
   "metadata": {
    "collapsed": true
   },
   "outputs": [],
   "source": []
  },
  {
   "cell_type": "code",
   "execution_count": 9,
   "outputs": [],
   "source": [
    "import numpy as np\n",
    "import pandas as pd\n",
    "import scipy.spatial.distance as dist\n",
    "from sympy import *\n",
    "import random"
   ],
   "metadata": {
    "collapsed": false,
    "pycharm": {
     "name": "#%%\n"
    }
   }
  },
  {
   "cell_type": "code",
   "execution_count": 10,
   "outputs": [
    {
     "data": {
      "text/plain": "<IPython.core.display.Javascript object>",
      "application/javascript": "IPython.OutputArea.prototype._should_scroll = function(lines) {\n    return false;\n}\n"
     },
     "metadata": {},
     "output_type": "display_data"
    }
   ],
   "source": [
    "%%javascript\n",
    "IPython.OutputArea.prototype._should_scroll = function(lines) {\n",
    "    return false;\n",
    "}"
   ],
   "metadata": {
    "collapsed": false,
    "pycharm": {
     "name": "#%%\n"
    }
   }
  },
  {
   "cell_type": "code",
   "execution_count": 11,
   "outputs": [],
   "source": [
    "class ClusterAnalyser:\n",
    "\n",
    "    @classmethod\n",
    "    def check_purity(cls, cluster):\n",
    "        print('Purity of cluster i is\\n')\n",
    "        display(Symbol('P_{i} = max(p_{ij})'))\n",
    "        display(Eq(Symbol('p_{ij}'),Symbol('m_{ij}')/Symbol('M_{i}')))\n",
    "        print('Where, m_ij is the no of objects of class j in cluster i')\n",
    "        print('And M_i is the total no of object in cluster i')\n",
    "\n",
    "        purity = max(list(Matrix(cluster)/sum(cluster)))\n",
    "\n",
    "        print(f'\\nP = max{list(Matrix(cluster)/sum(cluster))} = {purity} = {N(purity,3)}')\n",
    "\n",
    "    @classmethod\n",
    "    def cal_entropy(cls, cluster):\n",
    "        print('Entropy of cluster i is\\n')\n",
    "        display(Symbol('e_{i} = \\u03A3_{j=1}^{L}p_{ij}log_{2}(p_{ij})'))\n",
    "        display(Eq(Symbol('p_{ij}'),Symbol('m_{ij}')/Symbol('M_{i}')))\n",
    "        print('Where, m_ij is the no of objects of class j in cluster i')\n",
    "        print('And M_i is the total no of object in cluster i')\n",
    "\n",
    "        p_ij = list(Matrix(cluster)/sum(cluster))\n",
    "\n",
    "        e_str =[f'-{x}log\\u2082({x})' for x in p_ij]\n",
    "        sum_c = sum(cluster)\n",
    "\n",
    "        entropy = round(sum([-x/sum_c*np.log2(x/sum_c) for x in cluster if x > 0]),3)\n",
    "        print(f'\\ne = {\"\".join(e_str)} = {entropy} ')\n",
    "    @classmethod\n",
    "    def cal_hopkins_stat(cls, cluster):\n",
    "        print('Calculating hopkins statistics to check uniformity of cluster distribution\\n')\n",
    "        print(f'\\nCluster: {cluster}')\n",
    "        choice = int(np.ceil(len(cluster)/2))\n",
    "        #print(choice)\n",
    "        print (f'\\n Randomly select {choice} elements from cluster')\n",
    "        sample1 = random.sample(cluster, choice)\n",
    "        print(f'\\nSample: {sample1}')\n",
    "        print('\\nFind point nearest to each point in the sample and sum all the nearest distances')\n",
    "        pm = cls.prepare_proximity_matrix(cluster)\n",
    "        s = ''\n",
    "        sum_x = 0\n",
    "        for idx in sample1:\n",
    "            dist = pm.loc[idx].sort_values(ascending=True).iloc[1]\n",
    "            i = pm.loc[idx].sort_values(ascending=True).index[1]\n",
    "            sum_x+=dist\n",
    "            s+=f'd({idx},{i}) +'\n",
    "        s = s[:-1]\n",
    "        display(Eq(Symbol('\\u03A3x_i'), Symbol(s)))\n",
    "        display(Eq(Symbol('\\u03A3x_i'), sum_x))\n",
    "\n",
    "        sample2=[]\n",
    "        print (f'\\nRandomly select {choice} elements from cluster and remove from cluster')\n",
    "\n",
    "        for i in range(choice):\n",
    "            p = random.choice(cluster)\n",
    "            cluster.remove(p)\n",
    "            print(f'P{i+1} = {p}, cluster = {cluster}')\n",
    "            sample2.append(p)\n",
    "        s = ''\n",
    "        sum_y=0\n",
    "        for idx in sample2:\n",
    "            dist = pm.loc[idx].sort_values(ascending=True).iloc[1]\n",
    "            i = pm.loc[idx].sort_values(ascending=True).index[1]\n",
    "            sum_y+=dist\n",
    "            s+=f'd({idx},{i}) +'\n",
    "        s = s[:-1]\n",
    "        display(Eq(Symbol('\\u03A3y_i'), Symbol(s)))\n",
    "        display(Eq(Symbol('\\u03A3y_i'), sum_y))\n",
    "        display(Eq(Symbol('H'), Symbol('\\u03A3y_i')/Symbol('\\u03A3x_{i} + \\u03A3y_{i}')))\n",
    "        h = sum_y/(sum_x + sum_y)\n",
    "        display(Eq(Symbol('H'), round(h,3)))\n",
    "\n",
    "        if h<= 0.5:\n",
    "            print('Since H <= 0.5, data is uniformly distributed as per Hopkins statistics and not suitable for clustering')\n",
    "        else:\n",
    "            print('Since H > 0.5, data is not uniformly distributed as per Hopkins statistics and suitable for clustering')\n",
    "\n",
    "\n",
    "    @classmethod\n",
    "    def cal_distance(cls, x1, x2, distance = 'Euclidean'):\n",
    "        if distance == 'Euclidean':\n",
    "            return round(dist.euclidean(x1,x2),3)\n",
    "        elif distance == 'Manhattan':\n",
    "            return sum([abs(i-j) for i,j in zip(x1,x2)])\n",
    "\n",
    "    @classmethod\n",
    "    def prepare_proximity_matrix(cls, cluster):\n",
    "\n",
    "        proximity_matrix = pd.DataFrame(index=cluster, columns=cluster)\n",
    "        proximity_matrix.fillna('', inplace=True)\n",
    "\n",
    "        for i in range(len(cluster)):\n",
    "            for j in range(len(cluster)):\n",
    "                proximity_matrix.iloc[i,j] = cls.cal_distance(cluster[i], cluster[j])\n",
    "        #print(proximity_matrix)\n",
    "        return proximity_matrix"
   ],
   "metadata": {
    "collapsed": false,
    "pycharm": {
     "name": "#%%\n"
    }
   }
  },
  {
   "cell_type": "code",
   "execution_count": 12,
   "outputs": [
    {
     "name": "stdout",
     "output_type": "stream",
     "text": [
      "Purity of cluster i is\n",
      "\n"
     ]
    },
    {
     "data": {
      "text/plain": "P_{i} = max(p_{ij})",
      "text/latex": "$\\displaystyle P_{i} = max(p_{ij})$"
     },
     "metadata": {},
     "output_type": "display_data"
    },
    {
     "data": {
      "text/plain": "Eq(p_{ij}, m_{ij}/M_{i})",
      "text/latex": "$\\displaystyle p_{ij} = \\frac{m_{ij}}{M_{i}}$"
     },
     "metadata": {},
     "output_type": "display_data"
    },
    {
     "name": "stdout",
     "output_type": "stream",
     "text": [
      "Where, m_ij is the no of objects of class j in cluster i\n",
      "And M_i is the total no of object in cluster i\n",
      "\n",
      "P = max[1/693, 1/693, 0, 1/63, 4/693, 676/693] = 676/693 = 0.975\n"
     ]
    }
   ],
   "source": [
    "ClusterAnalyser.check_purity([1,1,0,11,4,676])"
   ],
   "metadata": {
    "collapsed": false,
    "pycharm": {
     "name": "#%%\n"
    }
   }
  },
  {
   "cell_type": "code",
   "execution_count": 13,
   "outputs": [
    {
     "name": "stdout",
     "output_type": "stream",
     "text": [
      "Entropy of cluster i is\n",
      "\n"
     ]
    },
    {
     "data": {
      "text/plain": "e_{i} = Σ_{j=1}^{L}p_{ij}log_{2}(p_{ij})",
      "text/latex": "$\\displaystyle e_{i} = Σ_{j=1}^{L}p_{ij}log_{2}(p_{ij})$"
     },
     "metadata": {},
     "output_type": "display_data"
    },
    {
     "data": {
      "text/plain": "Eq(p_{ij}, m_{ij}/M_{i})",
      "text/latex": "$\\displaystyle p_{ij} = \\frac{m_{ij}}{M_{i}}$"
     },
     "metadata": {},
     "output_type": "display_data"
    },
    {
     "name": "stdout",
     "output_type": "stream",
     "text": [
      "Where, m_ij is the no of objects of class j in cluster i\n",
      "And M_i is the total no of object in cluster i\n",
      "\n",
      "e = -1/693log₂(1/693)-1/693log₂(1/693)-0log₂(0)-1/63log₂(1/63)-4/693log₂(4/693)-676/693log₂(676/693) = 0.2 \n"
     ]
    }
   ],
   "source": [
    "ClusterAnalyser.cal_entropy([1,1,0,11,4,676])"
   ],
   "metadata": {
    "collapsed": false,
    "pycharm": {
     "name": "#%%\n"
    }
   }
  },
  {
   "cell_type": "code",
   "execution_count": 14,
   "outputs": [
    {
     "name": "stdout",
     "output_type": "stream",
     "text": [
      "Calculating hopkins statistics to check uniformity of cluster distribution\n",
      "\n",
      "\n",
      "Cluster: [2, 10, 12, 4, 25, 3, 30, 20, 11]\n",
      "\n",
      " Randomly select 5 elements from cluster\n",
      "\n",
      "Sample: [10, 11, 20, 25, 4]\n",
      "\n",
      "Find point nearest to each point in the sample and sum all the nearest distances\n"
     ]
    },
    {
     "ename": "ValueError",
     "evalue": "Input vector should be 1-D.",
     "output_type": "error",
     "traceback": [
      "\u001B[1;31m---------------------------------------------------------------------------\u001B[0m",
      "\u001B[1;31mValueError\u001B[0m                                Traceback (most recent call last)",
      "Cell \u001B[1;32mIn[14], line 1\u001B[0m\n\u001B[1;32m----> 1\u001B[0m \u001B[43mClusterAnalyser\u001B[49m\u001B[38;5;241;43m.\u001B[39;49m\u001B[43mcal_hopkins_stat\u001B[49m\u001B[43m(\u001B[49m\u001B[43m[\u001B[49m\u001B[38;5;241;43m2\u001B[39;49m\u001B[43m,\u001B[49m\u001B[38;5;241;43m10\u001B[39;49m\u001B[43m,\u001B[49m\u001B[38;5;241;43m12\u001B[39;49m\u001B[43m,\u001B[49m\u001B[38;5;241;43m4\u001B[39;49m\u001B[43m,\u001B[49m\u001B[38;5;241;43m25\u001B[39;49m\u001B[43m,\u001B[49m\u001B[38;5;241;43m3\u001B[39;49m\u001B[43m,\u001B[49m\u001B[38;5;241;43m30\u001B[39;49m\u001B[43m,\u001B[49m\u001B[38;5;241;43m20\u001B[39;49m\u001B[43m,\u001B[49m\u001B[38;5;241;43m11\u001B[39;49m\u001B[43m]\u001B[49m\u001B[43m)\u001B[49m\n",
      "Cell \u001B[1;32mIn[11], line 40\u001B[0m, in \u001B[0;36mClusterAnalyser.cal_hopkins_stat\u001B[1;34m(cls, cluster)\u001B[0m\n\u001B[0;32m     38\u001B[0m \u001B[38;5;28mprint\u001B[39m(\u001B[38;5;124mf\u001B[39m\u001B[38;5;124m'\u001B[39m\u001B[38;5;130;01m\\n\u001B[39;00m\u001B[38;5;124mSample: \u001B[39m\u001B[38;5;132;01m{\u001B[39;00msample1\u001B[38;5;132;01m}\u001B[39;00m\u001B[38;5;124m'\u001B[39m)\n\u001B[0;32m     39\u001B[0m \u001B[38;5;28mprint\u001B[39m(\u001B[38;5;124m'\u001B[39m\u001B[38;5;130;01m\\n\u001B[39;00m\u001B[38;5;124mFind point nearest to each point in the sample and sum all the nearest distances\u001B[39m\u001B[38;5;124m'\u001B[39m)\n\u001B[1;32m---> 40\u001B[0m pm \u001B[38;5;241m=\u001B[39m \u001B[38;5;28;43mcls\u001B[39;49m\u001B[38;5;241;43m.\u001B[39;49m\u001B[43mprepare_proximity_matrix\u001B[49m\u001B[43m(\u001B[49m\u001B[43mcluster\u001B[49m\u001B[43m)\u001B[49m\n\u001B[0;32m     41\u001B[0m s \u001B[38;5;241m=\u001B[39m \u001B[38;5;124m'\u001B[39m\u001B[38;5;124m'\u001B[39m\n\u001B[0;32m     42\u001B[0m sum_x \u001B[38;5;241m=\u001B[39m \u001B[38;5;241m0\u001B[39m\n",
      "Cell \u001B[1;32mIn[11], line 95\u001B[0m, in \u001B[0;36mClusterAnalyser.prepare_proximity_matrix\u001B[1;34m(cls, cluster)\u001B[0m\n\u001B[0;32m     93\u001B[0m \u001B[38;5;28;01mfor\u001B[39;00m i \u001B[38;5;129;01min\u001B[39;00m \u001B[38;5;28mrange\u001B[39m(\u001B[38;5;28mlen\u001B[39m(cluster)):\n\u001B[0;32m     94\u001B[0m     \u001B[38;5;28;01mfor\u001B[39;00m j \u001B[38;5;129;01min\u001B[39;00m \u001B[38;5;28mrange\u001B[39m(\u001B[38;5;28mlen\u001B[39m(cluster)):\n\u001B[1;32m---> 95\u001B[0m         proximity_matrix\u001B[38;5;241m.\u001B[39miloc[i,j] \u001B[38;5;241m=\u001B[39m \u001B[38;5;28;43mcls\u001B[39;49m\u001B[38;5;241;43m.\u001B[39;49m\u001B[43mcal_distance\u001B[49m\u001B[43m(\u001B[49m\u001B[43mcluster\u001B[49m\u001B[43m[\u001B[49m\u001B[43mi\u001B[49m\u001B[43m]\u001B[49m\u001B[43m,\u001B[49m\u001B[43m \u001B[49m\u001B[43mcluster\u001B[49m\u001B[43m[\u001B[49m\u001B[43mj\u001B[49m\u001B[43m]\u001B[49m\u001B[43m)\u001B[49m\n\u001B[0;32m     96\u001B[0m \u001B[38;5;66;03m#print(proximity_matrix)\u001B[39;00m\n\u001B[0;32m     97\u001B[0m \u001B[38;5;28;01mreturn\u001B[39;00m proximity_matrix\n",
      "Cell \u001B[1;32mIn[11], line 83\u001B[0m, in \u001B[0;36mClusterAnalyser.cal_distance\u001B[1;34m(cls, x1, x2, distance)\u001B[0m\n\u001B[0;32m     80\u001B[0m \u001B[38;5;129m@classmethod\u001B[39m\n\u001B[0;32m     81\u001B[0m \u001B[38;5;28;01mdef\u001B[39;00m \u001B[38;5;21mcal_distance\u001B[39m(\u001B[38;5;28mcls\u001B[39m, x1, x2, distance \u001B[38;5;241m=\u001B[39m \u001B[38;5;124m'\u001B[39m\u001B[38;5;124mEuclidean\u001B[39m\u001B[38;5;124m'\u001B[39m):\n\u001B[0;32m     82\u001B[0m     \u001B[38;5;28;01mif\u001B[39;00m distance \u001B[38;5;241m==\u001B[39m \u001B[38;5;124m'\u001B[39m\u001B[38;5;124mEuclidean\u001B[39m\u001B[38;5;124m'\u001B[39m:\n\u001B[1;32m---> 83\u001B[0m         \u001B[38;5;28;01mreturn\u001B[39;00m \u001B[38;5;28mround\u001B[39m(\u001B[43mdist\u001B[49m\u001B[38;5;241;43m.\u001B[39;49m\u001B[43meuclidean\u001B[49m\u001B[43m(\u001B[49m\u001B[43mx1\u001B[49m\u001B[43m,\u001B[49m\u001B[43mx2\u001B[49m\u001B[43m)\u001B[49m,\u001B[38;5;241m3\u001B[39m)\n\u001B[0;32m     84\u001B[0m     \u001B[38;5;28;01melif\u001B[39;00m distance \u001B[38;5;241m==\u001B[39m \u001B[38;5;124m'\u001B[39m\u001B[38;5;124mManhattan\u001B[39m\u001B[38;5;124m'\u001B[39m:\n\u001B[0;32m     85\u001B[0m         \u001B[38;5;28;01mreturn\u001B[39;00m \u001B[38;5;28msum\u001B[39m([\u001B[38;5;28mabs\u001B[39m(i\u001B[38;5;241m-\u001B[39mj) \u001B[38;5;28;01mfor\u001B[39;00m i,j \u001B[38;5;129;01min\u001B[39;00m \u001B[38;5;28mzip\u001B[39m(x1,x2)])\n",
      "File \u001B[1;32mF:\\mlProjects\\venv\\lib\\site-packages\\scipy\\spatial\\distance.py:520\u001B[0m, in \u001B[0;36meuclidean\u001B[1;34m(u, v, w)\u001B[0m\n\u001B[0;32m    484\u001B[0m \u001B[38;5;28;01mdef\u001B[39;00m \u001B[38;5;21meuclidean\u001B[39m(u, v, w\u001B[38;5;241m=\u001B[39m\u001B[38;5;28;01mNone\u001B[39;00m):\n\u001B[0;32m    485\u001B[0m \u001B[38;5;250m    \u001B[39m\u001B[38;5;124;03m\"\"\"\u001B[39;00m\n\u001B[0;32m    486\u001B[0m \u001B[38;5;124;03m    Computes the Euclidean distance between two 1-D arrays.\u001B[39;00m\n\u001B[0;32m    487\u001B[0m \n\u001B[1;32m   (...)\u001B[0m\n\u001B[0;32m    518\u001B[0m \n\u001B[0;32m    519\u001B[0m \u001B[38;5;124;03m    \"\"\"\u001B[39;00m\n\u001B[1;32m--> 520\u001B[0m     \u001B[38;5;28;01mreturn\u001B[39;00m \u001B[43mminkowski\u001B[49m\u001B[43m(\u001B[49m\u001B[43mu\u001B[49m\u001B[43m,\u001B[49m\u001B[43m \u001B[49m\u001B[43mv\u001B[49m\u001B[43m,\u001B[49m\u001B[43m \u001B[49m\u001B[43mp\u001B[49m\u001B[38;5;241;43m=\u001B[39;49m\u001B[38;5;241;43m2\u001B[39;49m\u001B[43m,\u001B[49m\u001B[43m \u001B[49m\u001B[43mw\u001B[49m\u001B[38;5;241;43m=\u001B[39;49m\u001B[43mw\u001B[49m\u001B[43m)\u001B[49m\n",
      "File \u001B[1;32mF:\\mlProjects\\venv\\lib\\site-packages\\scipy\\spatial\\distance.py:463\u001B[0m, in \u001B[0;36mminkowski\u001B[1;34m(u, v, p, w)\u001B[0m\n\u001B[0;32m    413\u001B[0m \u001B[38;5;28;01mdef\u001B[39;00m \u001B[38;5;21mminkowski\u001B[39m(u, v, p\u001B[38;5;241m=\u001B[39m\u001B[38;5;241m2\u001B[39m, w\u001B[38;5;241m=\u001B[39m\u001B[38;5;28;01mNone\u001B[39;00m):\n\u001B[0;32m    414\u001B[0m \u001B[38;5;250m    \u001B[39m\u001B[38;5;124;03m\"\"\"\u001B[39;00m\n\u001B[0;32m    415\u001B[0m \u001B[38;5;124;03m    Compute the Minkowski distance between two 1-D arrays.\u001B[39;00m\n\u001B[0;32m    416\u001B[0m \n\u001B[1;32m   (...)\u001B[0m\n\u001B[0;32m    461\u001B[0m \n\u001B[0;32m    462\u001B[0m \u001B[38;5;124;03m    \"\"\"\u001B[39;00m\n\u001B[1;32m--> 463\u001B[0m     u \u001B[38;5;241m=\u001B[39m \u001B[43m_validate_vector\u001B[49m\u001B[43m(\u001B[49m\u001B[43mu\u001B[49m\u001B[43m)\u001B[49m\n\u001B[0;32m    464\u001B[0m     v \u001B[38;5;241m=\u001B[39m _validate_vector(v)\n\u001B[0;32m    465\u001B[0m     \u001B[38;5;28;01mif\u001B[39;00m p \u001B[38;5;241m<\u001B[39m\u001B[38;5;241m=\u001B[39m \u001B[38;5;241m0\u001B[39m:\n",
      "File \u001B[1;32mF:\\mlProjects\\venv\\lib\\site-packages\\scipy\\spatial\\distance.py:302\u001B[0m, in \u001B[0;36m_validate_vector\u001B[1;34m(u, dtype)\u001B[0m\n\u001B[0;32m    300\u001B[0m \u001B[38;5;28;01mif\u001B[39;00m u\u001B[38;5;241m.\u001B[39mndim \u001B[38;5;241m==\u001B[39m \u001B[38;5;241m1\u001B[39m:\n\u001B[0;32m    301\u001B[0m     \u001B[38;5;28;01mreturn\u001B[39;00m u\n\u001B[1;32m--> 302\u001B[0m \u001B[38;5;28;01mraise\u001B[39;00m \u001B[38;5;167;01mValueError\u001B[39;00m(\u001B[38;5;124m\"\u001B[39m\u001B[38;5;124mInput vector should be 1-D.\u001B[39m\u001B[38;5;124m\"\u001B[39m)\n",
      "\u001B[1;31mValueError\u001B[0m: Input vector should be 1-D."
     ]
    }
   ],
   "source": [
    "ClusterAnalyser.cal_hopkins_stat([2,10,12,4,25,3,30,20,11])"
   ],
   "metadata": {
    "collapsed": false,
    "pycharm": {
     "name": "#%%\n"
    }
   }
  }
 ],
 "metadata": {
  "kernelspec": {
   "display_name": "Python 3",
   "language": "python",
   "name": "python3"
  },
  "language_info": {
   "codemirror_mode": {
    "name": "ipython",
    "version": 2
   },
   "file_extension": ".py",
   "mimetype": "text/x-python",
   "name": "python",
   "nbconvert_exporter": "python",
   "pygments_lexer": "ipython2",
   "version": "2.7.6"
  }
 },
 "nbformat": 4,
 "nbformat_minor": 0
}